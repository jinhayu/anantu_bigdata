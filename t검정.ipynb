{
 "cells": [
  {
   "cell_type": "code",
   "execution_count": 1,
   "id": "cd4feba0-7ceb-4a17-a504-89a41dc11a9b",
   "metadata": {},
   "outputs": [],
   "source": [
    "import numpy as np\n",
    "import scipy.stats as stats"
   ]
  },
  {
   "cell_type": "code",
   "execution_count": 3,
   "id": "965773ac-e202-4a86-a2d4-c42cded3d2a6",
   "metadata": {},
   "outputs": [],
   "source": [
    "A=[169,170,171,172,168,180,171,167]\n",
    "A=np.array(A)\n",
    "B=[180,175,168,187,190,200,195,199,178]\n",
    "B=np.array(B)\n",
    "C=[168,170,169,172,173,172,166,173]\n",
    "C=np.array(C)"
   ]
  },
  {
   "cell_type": "code",
   "execution_count": 5,
   "id": "74839125-2896-4626-b17d-b2dbaace5264",
   "metadata": {},
   "outputs": [
    {
     "name": "stdout",
     "output_type": "stream",
     "text": [
      "p value는 0.003092322976653488 유의미한 차이가 있다.\n"
     ]
    }
   ],
   "source": [
    "t_ind, p=stats.ttest_ind(A, B) # 독립표본 t 검정\n",
    "if p<0.05:\n",
    "  print(\"p value는\", p, \"유의미한 차이가 있다.\")\n",
    "else:\n",
    "  print(\"p value는\", p, \"유의미한 차이가 없다.\")"
   ]
  },
  {
   "cell_type": "code",
   "execution_count": 7,
   "id": "d79a4bf8-ffd5-49d9-a834-6410a0745edc",
   "metadata": {},
   "outputs": [
    {
     "name": "stdout",
     "output_type": "stream",
     "text": [
      "p value는 0.7155553162889237 유의미한 차이가 없다.\n"
     ]
    }
   ],
   "source": [
    "t_rel, p=stats.ttest_rel(A, C) #대응표본 t 검정\n",
    "if p<0.05:\n",
    "  print(\"p value는\", p, \"유의미한 차이가 있다.\")\n",
    "else:\n",
    "  print(\"p value는\", p, \"유의미한 차이가 없다.\")"
   ]
  },
  {
   "cell_type": "code",
   "execution_count": null,
   "id": "c2417928-219d-473b-870e-1349860d9db1",
   "metadata": {},
   "outputs": [],
   "source": []
  }
 ],
 "metadata": {
  "kernelspec": {
   "display_name": "Python 3 (ipykernel)",
   "language": "python",
   "name": "python3"
  },
  "language_info": {
   "codemirror_mode": {
    "name": "ipython",
    "version": 3
   },
   "file_extension": ".py",
   "mimetype": "text/x-python",
   "name": "python",
   "nbconvert_exporter": "python",
   "pygments_lexer": "ipython3",
   "version": "3.12.4"
  }
 },
 "nbformat": 4,
 "nbformat_minor": 5
}

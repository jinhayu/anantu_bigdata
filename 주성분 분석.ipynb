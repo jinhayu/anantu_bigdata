{
 "cells": [
  {
   "cell_type": "code",
   "execution_count": 1,
   "id": "996fb797-7cf5-42e2-aa7d-bb20092a4326",
   "metadata": {},
   "outputs": [],
   "source": [
    "import numpy as np\n",
    "import matplotlib.pyplot as plt\n",
    "import pandas as pd"
   ]
  },
  {
   "cell_type": "code",
   "execution_count": 3,
   "id": "9498d9de-5492-4e21-b894-188e572c5762",
   "metadata": {},
   "outputs": [],
   "source": [
    "app=np.array([8, 10, 9, 7, 6,3,2,4,6,2,8,7])\n",
    "per=np.array([1,7,9,5,4,5,1,2,4,5,6,7])\n",
    "favor=np.array([0,1,0,1,1,1,0,0,1,0,1,0])"
   ]
  },
  {
   "cell_type": "code",
   "execution_count": 5,
   "id": "576025bf-b28d-4a1d-8ae3-872092169dca",
   "metadata": {},
   "outputs": [
    {
     "data": {
      "text/plain": [
       "array([[7.27272727, 3.45454545],\n",
       "       [3.45454545, 6.06060606]])"
      ]
     },
     "execution_count": 5,
     "metadata": {},
     "output_type": "execute_result"
    }
   ],
   "source": [
    "cov=np.cov(app,per)\n",
    "cov"
   ]
  },
  {
   "cell_type": "code",
   "execution_count": 7,
   "id": "3bd2b43a-cfb6-469d-b8ce-fc368c022a45",
   "metadata": {},
   "outputs": [],
   "source": [
    "app=[8,10,9,7,6,3,2,4,6,2,8,7]\n",
    "per=[1,7,9,5,4,5,1,2,4,5,6,7]\n",
    "mon=[2,3,2,5,7,8,3,4,4,4,5,8]\n",
    "data=np.array([app, per, mon])"
   ]
  },
  {
   "cell_type": "code",
   "execution_count": 9,
   "id": "33ff9d25-701b-48ba-9c2a-930322cb74df",
   "metadata": {},
   "outputs": [
    {
     "data": {
      "text/plain": [
       "array([[ 8,  1,  2],\n",
       "       [10,  7,  3],\n",
       "       [ 9,  9,  2],\n",
       "       [ 7,  5,  5],\n",
       "       [ 6,  4,  7],\n",
       "       [ 3,  5,  8],\n",
       "       [ 2,  1,  3],\n",
       "       [ 4,  2,  4],\n",
       "       [ 6,  4,  4],\n",
       "       [ 2,  5,  4],\n",
       "       [ 8,  6,  5],\n",
       "       [ 7,  7,  8]])"
      ]
     },
     "execution_count": 9,
     "metadata": {},
     "output_type": "execute_result"
    }
   ],
   "source": [
    "data.T"
   ]
  },
  {
   "cell_type": "code",
   "execution_count": 11,
   "id": "30633e3a-17bb-4937-9f62-9aa1f997abaa",
   "metadata": {},
   "outputs": [],
   "source": [
    "cov=np.cov(data)"
   ]
  },
  {
   "cell_type": "code",
   "execution_count": 13,
   "id": "629dfbe0-27fc-4bb0-b082-9e90ce48aaef",
   "metadata": {},
   "outputs": [
    {
     "data": {
      "text/plain": [
       "array([[-0.77493202, -0.55502175, -0.30237596],\n",
       "       [-0.62680779,  0.61340108,  0.48046968],\n",
       "       [ 0.08119338, -0.56186294,  0.8232361 ]])"
      ]
     },
     "execution_count": 13,
     "metadata": {},
     "output_type": "execute_result"
    }
   ],
   "source": [
    "eigen_value, eigen_vector=np.linalg.eig(cov) # 고유백터\n",
    "eigen_vector"
   ]
  },
  {
   "cell_type": "code",
   "execution_count": 15,
   "id": "30db3b7d-6630-4f5a-81b3-04302351f430",
   "metadata": {},
   "outputs": [
    {
     "data": {
      "text/plain": [
       "array([[ 0.53868162, -4.69083576, -5.2507127 , -0.95003737,  0.6140892 ,\n",
       "         2.39327084,  5.2694671 ,  3.17398866,  0.37050905,  2.84342934,\n",
       "        -2.35177718, -1.9600728 ]])"
      ]
     },
     "execution_count": 15,
     "metadata": {},
     "output_type": "execute_result"
    }
   ],
   "source": [
    "from sklearn.decomposition import PCA\n",
    "pca=PCA(n_components=1)\n",
    "pca_value=pca.fit_transform(data.T)\n",
    "pca_value.T"
   ]
  },
  {
   "cell_type": "code",
   "execution_count": 17,
   "id": "f7104f15-4d5b-4d25-8bc4-b205cdebff92",
   "metadata": {},
   "outputs": [
    {
     "data": {
      "text/plain": [
       "array([[7.27272727, 3.45454545],\n",
       "       [3.45454545, 6.06060606]])"
      ]
     },
     "execution_count": 17,
     "metadata": {},
     "output_type": "execute_result"
    }
   ],
   "source": [
    "cov=np.cov(app,per)\n",
    "cov"
   ]
  },
  {
   "cell_type": "code",
   "execution_count": 19,
   "id": "e00fa2fa-c9ed-4584-b811-add40ecfcb04",
   "metadata": {},
   "outputs": [
    {
     "data": {
      "text/plain": [
       "array([[ 0.76576742, -0.64311761],\n",
       "       [ 0.64311761,  0.76576742]])"
      ]
     },
     "execution_count": 19,
     "metadata": {},
     "output_type": "execute_result"
    }
   ],
   "source": [
    "eigen_value, eigen_vector=np.linalg.eig(cov)\n",
    "eigen_vector"
   ]
  },
  {
   "cell_type": "code",
   "execution_count": 21,
   "id": "e387e9dd-574e-489e-bc02-e05cbf252d3d",
   "metadata": {},
   "outputs": [],
   "source": [
    "A=np.array([1,3])\n",
    "B=np.array([3,4])"
   ]
  },
  {
   "cell_type": "code",
   "execution_count": 23,
   "id": "6dcb5c92-5bd1-4667-a10f-7b9b32eec199",
   "metadata": {},
   "outputs": [
    {
     "data": {
      "text/plain": [
       "15"
      ]
     },
     "execution_count": 23,
     "metadata": {},
     "output_type": "execute_result"
    }
   ],
   "source": [
    "A.dot(B)"
   ]
  },
  {
   "cell_type": "code",
   "execution_count": 25,
   "id": "c96f52c8-5ee8-434e-9335-56e939dc7270",
   "metadata": {},
   "outputs": [
    {
     "data": {
      "text/plain": [
       "array([10.17397244,  3.1593609 ])"
      ]
     },
     "execution_count": 25,
     "metadata": {},
     "output_type": "execute_result"
    }
   ],
   "source": [
    "eigen_value"
   ]
  },
  {
   "cell_type": "code",
   "execution_count": 27,
   "id": "e012dd36-8ee4-49cd-af4b-9424840df09e",
   "metadata": {},
   "outputs": [
    {
     "data": {
      "text/plain": [
       "76.30479326587324"
      ]
     },
     "execution_count": 27,
     "metadata": {},
     "output_type": "execute_result"
    }
   ],
   "source": [
    "#보존률\n",
    "eigen_value[0]/(eigen_value[0]+eigen_value[1])*100"
   ]
  },
  {
   "cell_type": "code",
   "execution_count": 29,
   "id": "7e4b17d4-61b1-4cd7-b475-c205b57087a5",
   "metadata": {},
   "outputs": [
    {
     "data": {
      "text/plain": [
       "array([[ 0.76576742, -0.64311761],\n",
       "       [ 0.64311761,  0.76576742]])"
      ]
     },
     "execution_count": 29,
     "metadata": {},
     "output_type": "execute_result"
    }
   ],
   "source": [
    "eigen_vector"
   ]
  },
  {
   "cell_type": "code",
   "execution_count": 31,
   "id": "c8164781-8744-4cc7-8e77-94dc20d5abbd",
   "metadata": {},
   "outputs": [
    {
     "data": {
      "text/plain": [
       "array([ 5.48302174,  3.15585091,  1.10384827,  2.14478388,  2.02213407,\n",
       "       -0.9182858 ,  0.88841723,  1.77683445,  2.02213407, -1.68405322,\n",
       "        2.26743368,  0.85854865])"
      ]
     },
     "execution_count": 31,
     "metadata": {},
     "output_type": "execute_result"
    }
   ],
   "source": [
    "projected_x=[] #사영 project\n",
    "for i in np.arange(12):\n",
    "  projected_x.append(app[i]*eigen_vector[0,0]+per[i]*eigen_vector[0,1])\n",
    "projected_x\n",
    "np.array(projected_x)"
   ]
  },
  {
   "cell_type": "code",
   "execution_count": 33,
   "id": "1ce48401-c9ab-4a24-a943-abe6e9740a83",
   "metadata": {},
   "outputs": [
    {
     "data": {
      "text/plain": [
       "Text(0, 0.5, 'personality')"
      ]
     },
     "execution_count": 33,
     "metadata": {},
     "output_type": "execute_result"
    },
    {
     "data": {
      "image/png": "[encoded data removed]",
      "text/plain": [
       "<Figure size 640x480 with 1 Axes>"
      ]
     },
     "metadata": {},
     "output_type": "display_data"
    }
   ],
   "source": [
    "plt.scatter(app,per,c=favor)\n",
    "plt.xlabel(\"appearance\")\n",
    "plt.ylabel(\"personality\")"
   ]
  },
  {
   "cell_type": "code",
   "execution_count": null,
   "id": "45194bf9-063b-43d1-965d-692974008fae",
   "metadata": {},
   "outputs": [],
   "source": [
    "plt.scatter(projected_x, np.zeros(12),c=favor)\n",
    "len(projected_x)"
   ]
  }
 ],
 "metadata": {
  "kernelspec": {
   "display_name": "Python 3 (ipykernel)",
   "language": "python",
   "name": "python3"
  },
  "language_info": {
   "codemirror_mode": {
    "name": "ipython",
    "version": 3
   },
   "file_extension": ".py",
   "mimetype": "text/x-python",
   "name": "python",
   "nbconvert_exporter": "python",
   "pygments_lexer": "ipython3",
   "version": "3.12.4"
  }
 },
 "nbformat": 4,
 "nbformat_minor": 5
}

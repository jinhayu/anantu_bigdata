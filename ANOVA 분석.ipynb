{
 "cells": [
  {
   "cell_type": "code",
   "execution_count": 15,
   "id": "896dba53-ac34-48bd-a5a8-22751889891c",
   "metadata": {},
   "outputs": [],
   "source": [
    "import numpy as np\n",
    "import scipy.stats as stats"
   ]
  },
  {
   "cell_type": "code",
   "execution_count": 17,
   "id": "10868bf1-bd9c-49a5-a7f0-edd30a134db5",
   "metadata": {},
   "outputs": [],
   "source": [
    "A=[169,170,171,172,168,180,171,167]\n",
    "A=np.array(A)\n",
    "B=[180,175,168,187,190,200,195,199, 200]\n",
    "B=np.array(B)\n",
    "C=[168,170,169,172,173,172,166,173]\n",
    "C=np.array(C)"
   ]
  },
  {
   "cell_type": "code",
   "execution_count": 19,
   "id": "ac6bb69f-255b-46fb-9f02-19a577d8ec9a",
   "metadata": {},
   "outputs": [
    {
     "name": "stdout",
     "output_type": "stream",
     "text": [
      "3 집단 중 유의미한 차이를 보이는 집단이 있습니다.\n"
     ]
    }
   ],
   "source": [
    "F,p=stats.f_oneway(A,B,C)\n",
    "if p<0.05:\n",
    "  print(\"3 집단 중 유의미한 차이를 보이는 집단이 있습니다.\")\n",
    "else:\n",
    "  print(\"유의미한 차이를 보이는 집단이 없습니다.\")"
   ]
  },
  {
   "cell_type": "code",
   "execution_count": 21,
   "id": "2ba6a8c9-c7e2-4e5f-8283-e39fa5830e17",
   "metadata": {},
   "outputs": [
    {
     "data": {
      "text/plain": [
       "(171.0, 188.22222222222223, 170.375)"
      ]
     },
     "execution_count": 21,
     "metadata": {},
     "output_type": "execute_result"
    }
   ],
   "source": [
    "A.mean(), B.mean(), C.mean()"
   ]
  },
  {
   "cell_type": "code",
   "execution_count": null,
   "id": "74792783-1ebf-4eb3-9423-ada86f1bba9d",
   "metadata": {},
   "outputs": [],
   "source": []
  }
 ],
 "metadata": {
  "kernelspec": {
   "display_name": "Python 3 (ipykernel)",
   "language": "python",
   "name": "python3"
  },
  "language_info": {
   "codemirror_mode": {
    "name": "ipython",
    "version": 3
   },
   "file_extension": ".py",
   "mimetype": "text/x-python",
   "name": "python",
   "nbconvert_exporter": "python",
   "pygments_lexer": "ipython3",
   "version": "3.12.4"
  }
 },
 "nbformat": 4,
 "nbformat_minor": 5
}

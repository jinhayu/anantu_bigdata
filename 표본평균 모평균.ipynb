{
 "cells": [
  {
   "cell_type": "code",
   "execution_count": 1,
   "id": "b948680d-3531-4ac2-ac56-5c380d11f1ba",
   "metadata": {},
   "outputs": [],
   "source": [
    "import numpy as np"
   ]
  },
  {
   "cell_type": "code",
   "execution_count": 3,
   "id": "6380339d-b4d2-4ccb-b777-43ce38af8933",
   "metadata": {},
   "outputs": [
    {
     "data": {
      "text/plain": [
       "(173.07692307692307, 42.68639053254438)"
      ]
     },
     "execution_count": 3,
     "metadata": {},
     "output_type": "execute_result"
    }
   ],
   "source": [
    "height=np.array([170,172,173,168,165,180,169,185,177,160,180,176,175])\n",
    "np.mean(height),np.var(height)"
   ]
  },
  {
   "cell_type": "code",
   "execution_count": 5,
   "id": "e2f9e4d9-f10a-4075-acee-26f52fb0efca",
   "metadata": {},
   "outputs": [
    {
     "name": "stdout",
     "output_type": "stream",
     "text": [
      "표본평균의 평균: 173.123\n"
     ]
    }
   ],
   "source": [
    "sample_=[]\n",
    "for i in range(1000):\n",
    "    sample=np.random.choice(height,10)#표본 뽑기\n",
    "    sample_mean=sample.mean() #표본의 평균\n",
    "    sample_.append(sample_mean)\n",
    "print(\"표본평균의 평균:\",np.mean(sample_))"
   ]
  },
  {
   "cell_type": "code",
   "execution_count": null,
   "id": "7756cc36-83de-49e4-bb24-b13128d58b9e",
   "metadata": {},
   "outputs": [],
   "source": [
    "sample_=[]\n",
    "for i in range(1000):\n",
    "    sample=np.random.choice(height,10)#표본 N=10\n",
    "    sample_mean=sample.mean() #표본의 평균\n",
    "    sample_.append(sample_mean)\n",
    "print(\"표본평균의 분산\",np.var(sample_,ddof=1))"
   ]
  }
 ],
 "metadata": {
  "kernelspec": {
   "display_name": "Python 3 (ipykernel)",
   "language": "python",
   "name": "python3"
  },
  "language_info": {
   "codemirror_mode": {
    "name": "ipython",
    "version": 3
   },
   "file_extension": ".py",
   "mimetype": "text/x-python",
   "name": "python",
   "nbconvert_exporter": "python",
   "pygments_lexer": "ipython3",
   "version": "3.12.4"
  }
 },
 "nbformat": 4,
 "nbformat_minor": 5
}

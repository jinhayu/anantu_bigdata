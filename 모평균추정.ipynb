{
 "cells": [
  {
   "cell_type": "code",
   "execution_count": 2,
   "id": "8a8a3bf6-5970-41d3-9b57-beab1ce94322",
   "metadata": {},
   "outputs": [],
   "source": [
    "import numpy as np"
   ]
  },
  {
   "cell_type": "code",
   "execution_count": 4,
   "id": "156d8623-8808-4e3c-b18d-b2049f7b5f61",
   "metadata": {},
   "outputs": [
    {
     "data": {
      "text/plain": [
       "(173.07692307692307, 42.68639053254438)"
      ]
     },
     "execution_count": 4,
     "metadata": {},
     "output_type": "execute_result"
    }
   ],
   "source": [
    "height=np.array([170,172,173,168,165,180,169,185,177,160,180,176,175])\n",
    "np.mean(height),np.var(height)"
   ]
  },
  {
   "cell_type": "code",
   "execution_count": 6,
   "id": "7ee5ebb2-c82e-491a-ba56-397ae4083c50",
   "metadata": {},
   "outputs": [],
   "source": [
    "sample=np.random.choice(height,10)\n",
    "sample_mean=np.mean(sample)\n",
    "sample_std=np.std(sample)"
   ]
  },
  {
   "cell_type": "code",
   "execution_count": null,
   "id": "d4d6a8d5-728f-4c1c-ba53-d7a1289dbe1b",
   "metadata": {},
   "outputs": [],
   "source": [
    "import math\n",
    "m_min=sample_mean-1.96*(sample_std/math.sqrt(10))\n",
    "m_max=sample_mean+1.96*(sample_std/math.sqrt(10))\n",
    "round(m_min,1),round(m_max,1)"
   ]
  }
 ],
 "metadata": {
  "kernelspec": {
   "display_name": "Python 3 (ipykernel)",
   "language": "python",
   "name": "python3"
  },
  "language_info": {
   "codemirror_mode": {
    "name": "ipython",
    "version": 3
   },
   "file_extension": ".py",
   "mimetype": "text/x-python",
   "name": "python",
   "nbconvert_exporter": "python",
   "pygments_lexer": "ipython3",
   "version": "3.12.4"
  }
 },
 "nbformat": 4,
 "nbformat_minor": 5
}
